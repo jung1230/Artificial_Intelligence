{
  "cells": [
    {
      "cell_type": "markdown",
      "metadata": {
        "id": "4Z5dTMmEipjU"
      },
      "source": [
        "#ECE 57000 Assignment 4 Exercise\n",
        "\n",
        "Name: Alan Chen"
      ]
    },
    {
      "cell_type": "markdown",
      "metadata": {
        "id": "pfcdxFawlJTP"
      },
      "source": [
        "Prepare the following package for implementation."
      ]
    },
    {
      "cell_type": "code",
      "execution_count": 17,
      "metadata": {
        "id": "GBZdpuy_pcUb"
      },
      "outputs": [],
      "source": [
        "import numpy as np\n",
        "import torch\n",
        "import torch.nn as nn\n",
        "import torch.nn.functional as F\n",
        "import math\n",
        "import matplotlib.pyplot as plt"
      ]
    },
    {
      "cell_type": "markdown",
      "metadata": {
        "id": "zB0SB2B4y5uj"
      },
      "source": [
        "#Exercise 1: Positional Encoding (20 points)"
      ]
    },
    {
      "cell_type": "markdown",
      "metadata": {
        "id": "juee9ETFlbF3"
      },
      "source": [
        "##Task 1. Implement Positional Encoding (15 points)\n",
        "\n",
        "Transformers process input sequences in parallel without an inherent understanding of word position, unlike recurrent neural networks (RNNs) that process sequences step by step. Positional encoding helps transformers gain this positional information by adding a vector to each word embedding that contains information about the word's position in the sequence. Specifically, positional encoding is a deterministic, fixed representation based on sine and cosine functions, and the formula for positional encoding is given as:\n",
        "$$\n",
        "\\mathrm{PE}(p o s, 2 i)=\\sin \\left(\\frac{p o s}{10000^{2 i / d_{\\text {model }}}}\\right),\n",
        "$$\n",
        "$$\n",
        "\\mathrm{PE}(p o s, 2 i+1)=\\cos \\left(\\frac{p o s}{10000^{2 i / d_{\\text {model }}}}\\right),\n",
        "$$\n",
        "where $pos$ is the position, $i$ is the dimension and $d_{\\text{model}}$ is the dimension of the model's embeddings.\n",
        "\n",
        "In practice, the positional encodings is added to the word embeddings, which is done by first creating a tensor of shape (1, sqeuence_length, d_model) and then adding it to the embeddings. Therefore, each dimension of the positional encoding corresponds to a sinusoid.\n",
        "\n",
        "If implemented correctly, the output should be like:\n",
        "\n",
        "Word Embeddings with Positional Encoding:\n",
        "\n",
        " tensor([[ 1.4000,  1.0479,  0.2396, -0.4558, -0.5485,  0.0267,  0.8648,  1.3756,\n",
        "          1.1994,  0.4603],\n",
        "        [ 1.4000,  1.0479,  0.2396, -0.4558, -0.5485,  0.0267,  0.8648,  1.3756,\n",
        "          1.1994,  0.4603],\n",
        "        [ 1.4000,  1.0479,  0.2396, -0.4558, -0.5485,  0.0267,  0.8648,  1.3756,\n",
        "          1.1994,  0.4603]], dtype=torch.float64)"
      ]
    },
    {
      "cell_type": "code",
      "execution_count": 18,
      "metadata": {
        "id": "1JEqA3WTjdvl"
      },
      "outputs": [
        {
          "name": "stdout",
          "output_type": "stream",
          "text": [
            "Word Embeddings with Positional Encoding:\n",
            " tensor([[ 1.4000,  1.0479,  0.2396, -0.4558, -0.5485,  0.0267,  0.8648,  1.3756,\n",
            "          1.1994,  0.4603],\n",
            "        [ 1.4000,  1.0479,  0.2396, -0.4558, -0.5485,  0.0267,  0.8648,  1.3756,\n",
            "          1.1994,  0.4603],\n",
            "        [ 1.4000,  1.0479,  0.2396, -0.4558, -0.5485,  0.0267,  0.8648,  1.3756,\n",
            "          1.1994,  0.4603]])\n"
          ]
        }
      ],
      "source": [
        "class PositionalEncoding:\n",
        "    def __init__(self, d_model, max_len):\n",
        "        self.d_model = d_model # the dimension of the encoded vector\n",
        "        self.max_len = max_len\n",
        "        self.positional_encoding = self._get_positional_encoding()\n",
        "\n",
        "    def _get_positional_encoding(self):\n",
        "        \"\"\"\n",
        "        Generate a matrix where each row corresponds to the positional encoding for a position.\n",
        "        \"\"\"\n",
        "        # <YOUR CODE HERE>\n",
        "\n",
        "        # initialization\n",
        "        PE = torch.zeros(self.max_len, self.d_model)\n",
        "        position = torch.arange(0, self.max_len, dtype=torch.float).unsqueeze(1) # [0 ~ maxlength]. unsqueeze make its shape (max_len, 1) \n",
        "        divisor = torch.pow(10000, torch.arange(0, self.d_model, 2).float() / self.d_model) # torch.pow can handle tensors, while math can only works with scaler\n",
        "        \n",
        "        # cal\n",
        "        PE[:, 0: :2] = torch.sin(position / divisor) # [start : stop : step]\n",
        "        PE[:, 1: :2] = torch.cos(position / divisor)\n",
        "        PE = PE.unsqueeze(0)  # Add q new dimension for broadcasting (e.g. [[1, 2, 3], [4, 5, 6]] --> [[[1, 2, 3], [4, 5, 6]]])\n",
        "        return PE\n",
        "\n",
        "        # <END YOUR CODE>\n",
        "\n",
        "    def get_encoding(self):\n",
        "        \"\"\"\n",
        "        Returns the positional encoding matrix.\n",
        "        \"\"\"\n",
        "        return self.positional_encoding\n",
        "\n",
        "def add_positional_encoding(word_embeddings, positional_encodings):\n",
        "    \"\"\"\n",
        "    Add positional encoding to word embeddings.\n",
        "\n",
        "    Parameters:\n",
        "    - word_embeddings: (batch_size, seq_len, d_model) input embeddings\n",
        "    - positional_encodings: (seq_len, d_model) precomputed positional encodings\n",
        "\n",
        "    Returns:\n",
        "    - embeddings with positional encodings added.\n",
        "    \"\"\"\n",
        "    # <YOUR CODE HERE>\n",
        "    \n",
        "    return word_embeddings + positional_encodings\n",
        "\n",
        "    # <END YOUR CODE>\n",
        "\n",
        "# Test positional encoding on a sample embedding\n",
        "\n",
        "batch_size = 3\n",
        "seq_len = 10\n",
        "d_model = 128\n",
        "word_embeddings = torch.arange(1,129).repeat(batch_size, seq_len, 1).float()\n",
        "word_embeddings *= 0.1\n",
        "\n",
        "# Create Positional Encoding instance\n",
        "pos_enc = PositionalEncoding(d_model, seq_len)\n",
        "\n",
        "# Get positional encoding\n",
        "positional_encodings = pos_enc.get_encoding()\n",
        "\n",
        "# Add positional encodings to word embeddings\n",
        "encoded_embeddings = add_positional_encoding(word_embeddings, positional_encodings)\n",
        "\n",
        "print(\"Word Embeddings with Positional Encoding:\\n\", encoded_embeddings[:,:,3])"
      ]
    },
    {
      "cell_type": "markdown",
      "metadata": {
        "id": "-MNoM7wNuwew"
      },
      "source": [
        "## Task 2: Visualize Positional Encoding (5 points)\n",
        "\n",
        "Generate and visualize the positional encodings using the positional_encoding function. You will use a heatmap to visualize how different positions and dimensions are represented by the encoding.\n",
        "\n"
      ]
    },
    {
      "cell_type": "code",
      "execution_count": 19,
      "metadata": {
        "id": "WCgngo3Agz0p"
      },
      "outputs": [
        {
          "data": {
            "image/png": "[encoded data removed]",
            "text/plain": [
              "<Figure size 1000x600 with 2 Axes>"
            ]
          },
          "metadata": {},
          "output_type": "display_data"
        }
      ],
      "source": [
        "def visualize_positional_encoding(PE):\n",
        "    plt.figure(figsize=(10, 6))\n",
        "    plt.imshow(PE, aspect='auto', cmap='viridis')\n",
        "    plt.colorbar(label=\"Encoding values\")\n",
        "    plt.xlabel(\"Embedding Dimension\")\n",
        "    plt.ylabel(\"Position in Sequence\")\n",
        "    plt.show()\n",
        "\n",
        "# Visualize for a sequence of length 64 and embedding size 32\n",
        "# <YOUR CODE HERE>\n",
        "\n",
        "seq_len = 64\n",
        "d_model = 32\n",
        "\n",
        "# Create Positional Encoding instance\n",
        "pos_enc = PositionalEncoding(d_model, seq_len)\n",
        "\n",
        "# Get positional encoding\n",
        "positional_encodings = pos_enc.get_encoding()\n",
        "\n",
        "visualize_positional_encoding(positional_encodings[0].detach().numpy()) # [0] to show the first patch. When you call detach(), you create a new tensor that shares the same data but \n",
        "                                                                        # is not tracked by the autograd system. Detaching is important because if the \n",
        "                                                                        # tensor still requires gradients, you cannot convert it to a NumPy array directly \n",
        "                                                                        # as NumPy arrays do not support gradients. NumPy array can then be used for \n",
        "                                                                        # various purposes, such as plotting or analysis\n",
        "\n",
        "# <END YOUR CODE>"
      ]
    },
    {
      "cell_type": "markdown",
      "metadata": {
        "id": "WbJLiwLNnxwS"
      },
      "source": [
        "# Exercise 2: Attention Score Function (30 points)"
      ]
    },
    {
      "cell_type": "markdown",
      "metadata": {
        "id": "DoXzr6Kgvzls"
      },
      "source": [
        "## Task 1. Implement Scaled Dot-Product Attention (20 points)\n",
        "\n",
        "In this task, you will implement a function that computes scaled dot-product attention and use it to create a simple attention-based layer. The scaled dot-product attention computes the attention score by taking the dot product of queries $Q$ and keys $K$, scaling by the square root of the key dimension $d_k$, and applying a softmax to compute attention weights. These weights are then used to compute the weighted sum of the values $V$:\n",
        "$$\n",
        "\\operatorname{A}(Q, K, V)=\\operatorname{softmax}\\left(\\frac{Q K^T}{\\sqrt{d_k}}\\right) V,\n",
        "$$\n",
        "where $Q, K \\in \\mathbb{R}^{L \\times d_k}$ and $V \\in \\mathbb{R}^{L \\times d_v}$. Notice that the softmax function is performed column-wise, and the output  of attention should be a matrix $A \\in \\mathbb{R}^{L \\times d_v}$.\n",
        "\n",
        "Furthermore, you will implement a batched version which takes into account several sequences at the same time, such that $Q, K \\in \\mathbb{R}^{N \\times L \\times d_k}$ and $V \\in \\mathbb{R}^{N \\times L \\times d_v}$ with $N$ the batch size. To do this, we recommend that you use `torch.bmm` for batched version of matrix multiplication for clarity.\n",
        "\n",
        "If implemented correctly, the output should be like:\n",
        "\n",
        "Attention output Shape: torch.Size([20, 5, 64])\n",
        "\n",
        "Attention Weights Shape: torch.Size([20, 5, 5])\n",
        "\n",
        "Is the implementation close to PyTorch implementation? True\n"
      ]
    },
    {
      "cell_type": "code",
      "execution_count": 20,
      "metadata": {
        "id": "4qkQPFNFrkQn"
      },
      "outputs": [
        {
          "name": "stdout",
          "output_type": "stream",
          "text": [
            "Attention Output Shape: torch.Size([20, 5, 64])\n",
            "Attention Weights Shape: torch.Size([20, 5, 5])\n",
            "Is the implementation close to PyTorch implementation? True\n"
          ]
        }
      ],
      "source": [
        "def att_score(Q, K, V):\n",
        "    \"\"\"\n",
        "    Computes scaled dot-product attention.\n",
        "\n",
        "    Parameters:\n",
        "    Q (torch.Tensor): Query matrix of shape (batch_size, num_heads, seq_len, d_k)\n",
        "    K (torch.Tensor): Key matrix of shape (batch_size, num_heads, seq_len, d_k)\n",
        "    V (torch.Tensor): Value matrix of shape (batch_size, num_heads, seq_len, d_v)\n",
        "    mask (torch.Tensor): Optional attention mask of shape (batch_size, 1, 1, seq_len)\n",
        "\n",
        "    Returns:\n",
        "    torch.Tensor: The attention output of shape (batch_size, num_heads, seq_len, d_v)\n",
        "    \"\"\"\n",
        "    d_k = Q.size(-1)\n",
        "    # <YOUR CODE HERE>\n",
        "\n",
        "    # cal attention score (shape: (batch_size, seq_len, d_v))\n",
        "    attention_score = torch.bmm(Q,K.transpose(1, 2)) / math.pow(d_k, 0.5)   # use `torch.bmm` for batched version of matrix multiplication. \n",
        "                                                                            # transpose(1, 2) means swapping the dimensions of the tensor \n",
        "                                                                            # at indices 1 and 2(change into d_k, seq_len for multiplication).\n",
        "\n",
        "    # use softmax to get attention weight. \n",
        "    # Applying softmax along dim=-1 ensures that for each query (each row), \n",
        "    # the scores across all the keys (all columns) sum to 1.\n",
        "    attention_weights = F.softmax(attention_score, dim = -1)\n",
        "\n",
        "    # These weights are then used to compute the weighted sum of the values V. (Shape: (batch_size, seq_len, d_v))\n",
        "    attention_output = torch.bmm(attention_weights, V)  \n",
        "\n",
        "    return attention_output, attention_weights\n",
        "\n",
        "    # <END YOUR CODE>\n",
        "\n",
        "# Test the attention function with some random values\n",
        "\n",
        "batch_size = 20\n",
        "seq_len = 5\n",
        "d_k = 512\n",
        "d_v = 64\n",
        "\n",
        "Q = torch.rand(batch_size, seq_len, d_k)\n",
        "K = torch.rand(batch_size, seq_len, d_k)\n",
        "V = torch.rand(batch_size, seq_len, d_v)\n",
        "\n",
        "attention_output, attention_weights = att_score(Q, K, V)\n",
        "attention_output_ref = F.scaled_dot_product_attention(Q, K, V)\n",
        "\n",
        "print(f\"Attention Output Shape:\", attention_output.shape)\n",
        "print(f\"Attention Weights Shape:\", attention_weights.shape)\n",
        "\n",
        "print(f\"Is the implementation close to PyTorch implementation? \" f'{torch.allclose(attention_output,attention_output_ref, atol = 1e-3)}')"
      ]
    },
    {
      "cell_type": "markdown",
      "metadata": {
        "id": "ScdFiFz5zsZJ"
      },
      "source": [
        "## Task 2. Masking Mechanism (10 points)\n",
        "\n",
        "In certain scenarios, we need to prevent the model from \"seeing\" future tokens, which ensures that the predictions are only based on the previous tokens in the sequence. For instance, When predicting the next word in a sequence, we don't want the model to attend to future words, as it would give the model access to information it shouldn't have.\n",
        "\n",
        "In this task, you will implement and test a lower-triangular mask, which masks out upper-triangular entries of the score matrix. Notice that the lower-triangular mask is applied before the softmax function, i.e., on $\\left(\\frac{Q K^T}{\\sqrt{d_k}}\\right)$. Accordingly, you will need to modify the `attention_score` function in task 1 to take into account such change.\n",
        "\n",
        "Hint: you may use the `masked_fill` function to mask out lower-triangular entries. Try to use a boolean mask in the implementation.\n",
        "\n",
        "If implemented correctly, the output should be like:\n",
        "\n",
        "Is the implementation close to PyTorch implementation?: True\n",
        "\n",
        "---\n",
        "e.g.\n",
        "\n",
        "Mask:\n",
        "\n",
        "[\n",
        "\n",
        "[1, 0, 0, 0, 0],  # Token 1 can only attend to itself\n",
        "\n",
        "[1, 1, 0, 0, 0],  # Token 2 can attend to Token 1 and itself\n",
        "\n",
        "[1, 1, 1, 0, 0],  # Token 3 can attend to Tokens 1, 2, and itself\n",
        "\n",
        "[1, 1, 1, 1, 0],  # Token 4 can attend to Tokens 1, 2, 3, and itself\n",
        "\n",
        "[1, 1, 1, 1, 1]   # Token 5 can attend to all tokens\n",
        "\n",
        "]\n",
        "\n",
        "Masked Attention Scores:\n",
        "\n",
        "[\n",
        "\n",
        "[0.2,   -inf, -inf, -inf, -inf],\n",
        "\n",
        "[0.5,  0.6,  -inf, -inf, -inf],\n",
        "\n",
        "[0.4,  0.8,  0.9,  -inf, -inf],\n",
        "\n",
        "[0.1,  0.2,  0.3,  0.4,  -inf],\n",
        "\n",
        "[0.0,  0.1,  0.3,  0.8,  0.9]\n",
        "\n",
        "]\n",
        "\n",
        "Attention Weights (after softmax):\n",
        "\n",
        "[\n",
        "\n",
        "[1.0,  0.0,  0.0,  0.0,  0.0],  # Token 1 attends only to itself\n",
        "\n",
        "[0.4,  0.6,  0.0,  0.0,  0.0],  # Token 2 attends to Token 1 and itself\n",
        "\n",
        "[0.2,  0.4,  0.4,  0.0,  0.0],  # Token 3 attends to Tokens 1, 2, and itself\n",
        "\n",
        "[0.1,  0.2,  0.3,  0.4,  0.0],  # Token 4 attends to Tokens 1, 2, 3, and itself\n",
        "\n",
        "[0.0,  0.1,  0.2,  0.3,  0.4]   # Token 5 attends to all tokens\n",
        "\n",
        "]\n",
        "  \n"
      ]
    },
    {
      "cell_type": "code",
      "execution_count": 21,
      "metadata": {
        "id": "CzuJt6fg05qq"
      },
      "outputs": [
        {
          "name": "stdout",
          "output_type": "stream",
          "text": [
            "Is the implementation close to PyTorch implementation? True\n"
          ]
        }
      ],
      "source": [
        "def create_mask(seq_len):\n",
        "  # <YOUR CODE HERE>\n",
        "\n",
        "  # create seq_len* seq_len matrix with ones\n",
        "  ones_matrix = torch.ones(seq_len, seq_len) \n",
        "\n",
        "  # applied a lower triangular operation\n",
        "  mask = torch.tril(ones_matrix).bool() # torch.tril perform lower traingular operation, \n",
        "                                        # turn some one into zero(like how mask example \n",
        "                                        # shows above). and bool turn 1 to True, 0 to False.\n",
        "  \n",
        "  return mask\n",
        "\n",
        "  # <END YOUR CODE>\n",
        "\n",
        "def attention_score(Q, K, V, mask=None):\n",
        "    \"\"\"\n",
        "    Computes scaled dot-product attention.\n",
        "\n",
        "    Parameters:\n",
        "    Q (torch.Tensor): Query matrix of shape (batch_size, num_heads, seq_len, d_k)\n",
        "    K (torch.Tensor): Key matrix of shape (batch_size, num_heads, seq_len, d_k)\n",
        "    V (torch.Tensor): Value matrix of shape (batch_size, num_heads, seq_len, d_v)\n",
        "    mask (torch.Tensor): Optional attention mask of shape (batch_size, 1, 1, seq_len)\n",
        "\n",
        "    Returns:\n",
        "    torch.Tensor: The attention output of shape (batch_size, num_heads, seq_len, d_v)\n",
        "    \"\"\"\n",
        "    d_k = Q.size(-1)\n",
        "    # <YOUR CODE HERE>\n",
        "\n",
        "    # cal attention score \n",
        "    attention_score = torch.bmm(Q,K.transpose(1, 2)) / math.pow(d_k, 0.5)                          \n",
        "\n",
        "    # change the index with False to -inf\n",
        "    if mask is not None:\n",
        "      attention_score = attention_score.masked_fill(~mask, float('-inf'))\n",
        "\n",
        "    # use softmax to get attention weight. \n",
        "    attention_weights = F.softmax(attention_score, dim = -1)\n",
        "\n",
        "    # These weights are then used to compute the weighted sum of the values V. \n",
        "    attention_output = torch.bmm(attention_weights, V)  \n",
        "\n",
        "    return attention_output\n",
        "\n",
        "    # <END YOUR CODE>\n",
        "\n",
        "# Test the masked attention function\n",
        "\n",
        "mask = create_mask(seq_len=5)\n",
        "attention_output= attention_score(Q, K, V, mask=mask)\n",
        "attention_output_ref = F.scaled_dot_product_attention(Q, K, V, attn_mask=mask)\n",
        "\n",
        "print(f\"Is the implementation close to PyTorch implementation? \" f'{torch.allclose(attention_output,attention_output_ref, atol = 1e-3)}')"
      ]
    },
    {
      "cell_type": "markdown",
      "metadata": {
        "id": "-59t7pOen3gi"
      },
      "source": [
        "#Exercise 3: Self-Attention Module (20 points)\n",
        "\n"
      ]
    },
    {
      "cell_type": "markdown",
      "metadata": {
        "id": "Spld39wV7a7C"
      },
      "source": [
        "Implement a self-attention module that takes $X$ and computes $Q$, $K$ and $V$ using three linear layers. If implemented correctly, the output should be like:\n",
        "\n",
        "Output shape: torch.Size([20, 5, 64])\n",
        "\n",
        "Output shape: torch.Size([20, 5, 64])\n",
        "Are the outputs permutation-equivalent? True\n",
        "\n",
        "The following two lines should be identical:\n",
        "\n",
        "tensor([-0.0166, -0.4199, -0.5860,  0.3721,  0.5411,  0.4073,  0.8418,  0.2554,\n",
        "        -0.2712,  0.6178, -0.0495, -0.0552,  0.6988, -0.3643,  0.7696],\n",
        "       grad_fn=<SliceBackward0>)\n",
        "       \n",
        "tensor([-0.0166, -0.4199, -0.5860,  0.3721,  0.5411,  0.4073,  0.8418,  0.2554,\n",
        "        -0.2712,  0.6178, -0.0495, -0.0552,  0.6988, -0.3643,  0.7696],\n",
        "       grad_fn=<SliceBackward0>)"
      ]
    },
    {
      "cell_type": "code",
      "execution_count": 22,
      "metadata": {
        "id": "tJban62L7HBi"
      },
      "outputs": [
        {
          "name": "stdout",
          "output_type": "stream",
          "text": [
            "Output shape: torch.Size([20, 5, 64])\n",
            "Are the outputs permutation-equivalent? True\n",
            "The following two lines should be identical:\n",
            "tensor([-0.0166, -0.4199, -0.5860,  0.3721,  0.5411,  0.4073,  0.8418,  0.2554,\n",
            "        -0.2712,  0.6178, -0.0495, -0.0552,  0.6988, -0.3643,  0.7696],\n",
            "       grad_fn=<SliceBackward0>)\n",
            "tensor([-0.0166, -0.4199, -0.5860,  0.3721,  0.5411,  0.4073,  0.8418,  0.2554,\n",
            "        -0.2712,  0.6178, -0.0495, -0.0552,  0.6988, -0.3643,  0.7696],\n",
            "       grad_fn=<SliceBackward0>)\n"
          ]
        }
      ],
      "source": [
        "class SelfAttention(torch.nn.Module):\n",
        "    def __init__(self, d_in, d_k, d_v):\n",
        "        \"\"\"\n",
        "        Initialize the Self-Attention module.\n",
        "\n",
        "        Parameters:\n",
        "        d_in (int): Dimensionality of the input sequence.\n",
        "        d_k (int): Dimensionality of the queries and keys.\n",
        "        d_v (int): Dimensionality of the values.\n",
        "        \"\"\"\n",
        "        super(SelfAttention, self).__init__()\n",
        "        # <YOUR CODE HERE>\n",
        "\n",
        "        '''    \n",
        "        Q (torch.Tensor): Query matrix of shape (batch_size, num_heads, seq_len, d_k)\n",
        "        K (torch.Tensor): Key matrix of shape (batch_size, num_heads, seq_len, d_k)\n",
        "        V (torch.Tensor): Value matrix of shape (batch_size, num_heads, seq_len, d_v)\n",
        "        '''    \n",
        "\n",
        "        self.Q_NN = nn.Linear(d_in, d_k)\n",
        "        self.K_NN = nn.Linear(d_in, d_k)\n",
        "        self.V_NN = nn.Linear(d_in, d_v)\n",
        "        \n",
        "        # <END YOUR CODE>\n",
        "\n",
        "    def forward(self, X, mask=None):\n",
        "        \"\"\"\n",
        "        Compute the self-attention for the input sequence.\n",
        "\n",
        "        Parameters:\n",
        "        X (torch.Tensor): Input sequence of shape (batch_size, seq_len, d_model)\n",
        "\n",
        "        Returns:\n",
        "        torch.Tensor: Output sequence of shape (batch_size, seq_len, d_model)\n",
        "        torch.Tensor: Attention weights of shape (batch_size, seq_len, seq_len)\n",
        "        \"\"\"\n",
        "        # <YOUR CODE HERE>\n",
        "\n",
        "        Q = self.Q_NN(X)\n",
        "        K = self.K_NN(X)\n",
        "        V = self.V_NN(X)\n",
        "\n",
        "        return attention_score(Q, K, V, mask)\n",
        "    \n",
        "        # <END YOUR CODE>\n",
        "\n",
        "# Test the self-attention module\n",
        "\n",
        "torch.manual_seed(40)\n",
        "batch_size = 20\n",
        "seq_len = 5\n",
        "d_in = 32\n",
        "d_k = 512\n",
        "d_v = 64\n",
        "\n",
        "X = torch.ones(batch_size, seq_len, d_in)\n",
        "self_attention = SelfAttention(d_in, d_k, d_v)\n",
        "output = self_attention(X)\n",
        "\n",
        "print(\"Output shape:\", output.shape)\n",
        "\n",
        "# Check the permutation-equivalent property of self-attention\n",
        "perm = torch.randperm(seq_len)\n",
        "\n",
        "permuted_X = X[:, perm, :]\n",
        "\n",
        "# Forward pass with permuted input\n",
        "permuted_output = self_attention(permuted_X)\n",
        "\n",
        "# Apply the same permutation to the original output to compare\n",
        "repermuted_output = output[:, perm, :]\n",
        "\n",
        "# Check if the outputs are the same (up to numerical precision)\n",
        "are_outputs_equivalent = torch.allclose(permuted_output, repermuted_output, atol=1e-3)\n",
        "\n",
        "print(\"Are the outputs permutation-equivalent?\", are_outputs_equivalent)\n",
        "print(\"The following two lines should be identical:\")\n",
        "print(permuted_output[-1,1,:15])\n",
        "print(repermuted_output[-1,1,:15])"
      ]
    },
    {
      "cell_type": "markdown",
      "metadata": {
        "id": "C13rckw8oKyr"
      },
      "source": [
        "# Exercise 4: Multi-head Self-Attention Module (30 points)\n",
        "\n",
        "Self-attention mechanisms allow a model to focus on different parts of the input sequence while processing each element. In the multi-head attention setup, multiple attention heads are computed in parallel, and their results are concatenated, which allows the model to capture information from different subspaces. Specifically, multi-head self-attention passes the input to each attention module, concatenates the outputs, and apply a linear layer to obtain the final output:\n",
        "$$\n",
        "\\operatorname{MultiHead}(X)=\\operatorname{Concat}\\left(\\text {head}_1, \\text {head}_2, \\ldots, \\text {head}_h \\right) W^O,\n",
        "$$\n",
        "$$\n",
        "\\operatorname{head}_i=\\operatorname{Attention}(X),\n",
        "$$\n",
        "where $\\operatorname{Attention}$ corresponds to the self-attention module where the dimensions of key, query and values are given as $\\frac{d_k}{h}$, $\\frac{d_k}{h}$ and $\\frac{d_v}{h}$ respectively. Notice that the weights are not necessarily identical for different heads; instead, you may save the attention heads as a `nn.ModuleList`.\n",
        "\n",
        "If implemented correctly, the output should be like:\n",
        "\n",
        "tensor([ 0.0275, -0.1630,  0.1510,  0.3983, -0.0111, -0.4692, -0.1411,  0.1411,\n",
        "         0.2040,  0.0587,  0.1210, -0.1313, -0.0088,  0.1773, -0.0538],\n",
        "       grad_fn=<SliceBackward0>)\n",
        "Output shape: torch.Size([32, 10, 64])"
      ]
    },
    {
      "cell_type": "code",
      "execution_count": 23,
      "metadata": {
        "id": "a80mRY5J81LP"
      },
      "outputs": [
        {
          "name": "stdout",
          "output_type": "stream",
          "text": [
            "tensor([ 0.0010, -0.0755,  0.2010,  0.1801, -0.1163,  0.0357,  0.0171, -0.1771,\n",
            "        -0.1328,  0.1286,  0.2016, -0.1690,  0.0786, -0.0970, -0.1705],\n",
            "       grad_fn=<SliceBackward0>)\n",
            "Output shape: torch.Size([32, 10, 64])\n"
          ]
        }
      ],
      "source": [
        "class MultiHeadSelfAttention(nn.Module):\n",
        "    def __init__(self, d_in, d_k, d_v, num_heads):\n",
        "        super(MultiHeadSelfAttention, self).__init__()\n",
        "        # <YOUR CODE HERE>\n",
        "        \n",
        "        self.num_heads = num_heads\n",
        "        self.d_k = d_k // num_heads\n",
        "        self.d_v = d_v // num_heads\n",
        "\n",
        "        # Create multiple attention heads\n",
        "        self.attention_heads = nn.ModuleList([\n",
        "            SelfAttention(d_in, self.d_k, self.d_v) for _ in range(num_heads)\n",
        "        ])\n",
        "\n",
        "        # use linear layer to combine the outputs of attention heads\n",
        "        self.output_linear = nn.Linear(d_v, d_v)\n",
        "\n",
        "        # <END YOUR CODE>\n",
        "\n",
        "    def forward(self, X, mask=None):\n",
        "        # <YOUR CODE HERE>\n",
        "\n",
        "        # Apply each attention head\n",
        "        head_outputs = []\n",
        "        for head in self.attention_heads:\n",
        "            head_output = head(X, mask)\n",
        "            head_outputs.append(head_output)\n",
        "\n",
        "        # Concatenate the outputs from all heads\n",
        "        multi_head_output = torch.cat(head_outputs, dim=-1)\n",
        "\n",
        "        # Apply the output linear layer\n",
        "        output = self.output_linear(multi_head_output)\n",
        "\n",
        "        return output\n",
        "    \n",
        "        # <END YOUR CODE>\n",
        "\n",
        "\n",
        "# Testing Multi-Head Attention\n",
        "torch.manual_seed(40)\n",
        "batch_size = 32\n",
        "seq_len = 10\n",
        "d_in = 256\n",
        "d_k = 512\n",
        "d_v = 64\n",
        "num_heads = 8\n",
        "\n",
        "X = torch.rand(batch_size, seq_len, d_in)\n",
        "\n",
        "multi_head_attention = MultiHeadSelfAttention(d_in, d_k, d_v, num_heads)\n",
        "\n",
        "output = multi_head_attention(X)\n",
        "\n",
        "print(output[-1,1,:15])\n",
        "print(\"Output shape:\", output.shape)"
      ]
    },
    {
      "cell_type": "markdown",
      "metadata": {},
      "source": []
    }
  ],
  "metadata": {
    "colab": {
      "provenance": []
    },
    "kernelspec": {
      "display_name": "Python 3",
      "name": "python3"
    },
    "language_info": {
      "codemirror_mode": {
        "name": "ipython",
        "version": 3
      },
      "file_extension": ".py",
      "mimetype": "text/x-python",
      "name": "python",
      "nbconvert_exporter": "python",
      "pygments_lexer": "ipython3",
      "version": "3.11.9"
    }
  },
  "nbformat": 4,
  "nbformat_minor": 0
}
