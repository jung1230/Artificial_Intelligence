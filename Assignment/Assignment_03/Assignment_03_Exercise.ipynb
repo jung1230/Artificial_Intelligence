{
  "cells": [
    {
      "cell_type": "markdown",
      "metadata": {
        "id": "zmwWs4S9cRIn"
      },
      "source": [
        "# ECE 57000 Assignment 3 Exercise\n",
        "\n",
        "Your Name:"
      ]
    },
    {
      "cell_type": "markdown",
      "metadata": {
        "id": "n2CehWbcQvDo"
      },
      "source": [
        "Prepare the pacakge we will use."
      ]
    },
    {
      "cell_type": "code",
      "execution_count": 1,
      "metadata": {
        "id": "yn6HrBFcQvDp"
      },
      "outputs": [],
      "source": [
        "import time\n",
        "from typing import List, Dict\n",
        "\n",
        "import torch\n",
        "import torch.nn as nn\n",
        "import torch.optim as optim\n",
        "import torch.nn.functional as F\n",
        "import torchvision\n",
        "import torchvision.models as models\n",
        "import torchvision.transforms as transforms\n",
        "\n",
        "import matplotlib.pyplot as plt"
      ]
    },
    {
      "cell_type": "markdown",
      "metadata": {
        "id": "Vmlsa88cqmib"
      },
      "source": [
        "## Exercise 0: Train your model on GPU (0 points)"
      ]
    },
    {
      "cell_type": "markdown",
      "metadata": {
        "id": "WfirXJR3qvB0"
      },
      "source": [
        "Some tasks in this assignment can take a long time if you run it on the CPU. For example, based on our solution of Exercise 3 Task 4 (Transfer Learning: finetuning of a pretrained model (resnet18)), it will take roughly 2 hours to train the model end-to-end (complete model and not only the last fc layer) for 1 epoch on CPU. Hence, we highly recommend you try to train your model on GPU.\n",
        "\n",
        "To do so, first you need to enable GPU on Colab (this will restart the runtime). Click `Runtime`-> `Change runtime type` and select the `Hardware accelerator` there.  You can then run the following code to see if the GPU is correctly initialized and available.\n",
        "\n",
        "**Note**: If you would like to avoid GPU overages on Colab, we would suggest writing and debugging your code before switching on the GPU runtime. Otherwise, the time you spent debugging code will likely count against your GPU usage. Once you have the code running, you can switch on the GPU runtime and train the model much faster."
      ]
    },
    {
      "cell_type": "code",
      "execution_count": 2,
      "metadata": {
        "colab": {
          "base_uri": "https://localhost:8080/"
        },
        "id": "TT7wKvilvBvX",
        "outputId": "60a44221-200e-4936-97a8-bd732f8265a7"
      },
      "outputs": [
        {
          "output_type": "stream",
          "name": "stdout",
          "text": [
            "Can I can use GPU now? -- True\n"
          ]
        }
      ],
      "source": [
        "print(f'Can I can use GPU now? -- {torch.cuda.is_available()}')"
      ]
    },
    {
      "cell_type": "markdown",
      "metadata": {
        "id": "hnPPDoA7vQWp"
      },
      "source": [
        "### You must manually move your model and data to the GPU (and sometimes back to the cpu)\n",
        "After setting the GPU up on colab, then you should put your **model** and **data** to GPU. We give a simple example below. You can use `to` function for this task. See [torch.Tensor.to](https://pytorch.org/docs/stable/generated/torch.Tensor.to.html) to move a tensor to the GPU (probably your mini-batch of data in each iteration) or [torch.nn.Module.to](https://pytorch.org/docs/stable/generated/torch.nn.Module.html#torch.nn.Module.to) to move your NN model to GPU (assuming you create subclass [torch.nn.Module](https://pytorch.org/docs/stable/generated/torch.nn.Module.html)). Note that `to()` of tensor returns a NEW tensor while `to` of a NN model will apply this in-place. To be safe, the best semantics are `obj = obj.to(device)`. For printing, you will need to move a tensor back to the CPU via the `cpu()` function.\n",
        "\n",
        "Once the model and input data are on the GPU, everything else can be done the same.  This is the beauty of PyTorch GPU acceleration.  None of the other code needs to be altered.\n",
        "\n",
        "To summarize, you need to 1) enable GPU acceleration in Colab, 2) put the model on the GPU, and 3) put the input data (i.e., the batch of samples) onto the GPU using `to()` after it is loaded by the data loaders (usually you only put one batch of data on the GPU at a time)."
      ]
    },
    {
      "cell_type": "code",
      "execution_count": 3,
      "metadata": {
        "colab": {
          "base_uri": "https://localhost:8080/"
        },
        "id": "lUdR8v7Kt-6S",
        "outputId": "3ac35c6a-36d0-4cd8-c04e-2070c2c41c14"
      },
      "outputs": [
        {
          "output_type": "stream",
          "name": "stdout",
          "text": [
            "input is on cpu\n",
            "model parameters are on [device(type='cpu'), device(type='cpu'), device(type='cpu'), device(type='cpu')]\n",
            "output is on cpu\n",
            "input is on cuda:0\n",
            "model parameters are on [device(type='cuda', index=0), device(type='cuda', index=0), device(type='cuda', index=0), device(type='cuda', index=0)]\n",
            "output is on cuda:0\n"
          ]
        }
      ],
      "source": [
        "rand_tensor = torch.rand(5,2) #  creates a 2D tensor (or matrix) with 5 rows and 2 columns, filled with random values uniformly sampled from the range [0, 1).\n",
        "simple_model = nn.Sequential(nn.Linear(2,10), nn.ReLU(), nn.Linear(10,1))\n",
        "print(f'input is on {rand_tensor.device}')\n",
        "print(f'model parameters are on {[param.device for param in simple_model.parameters()]}')\n",
        "print(f'output is on {simple_model(rand_tensor).device}')\n",
        "\n",
        "# device = torch.device('cuda')\n",
        "\n",
        "device = torch.device('cuda' if torch.cuda.is_available() else 'cpu')\n",
        "\n",
        "# ----------- <Your code> ---------------\n",
        "# Move rand_tensor and model onto the GPU device\n",
        "rand_tensor = rand_tensor.to(device)\n",
        "simple_model = simple_model.to(device)\n",
        "\n",
        "# --------- <End your code> -------------\n",
        "print(f'input is on {rand_tensor.device}')\n",
        "print(f'model parameters are on {[param.device for param in simple_model.parameters()]}')\n",
        "print(f'output is on {simple_model(rand_tensor).device}')"
      ]
    },
    {
      "cell_type": "markdown",
      "metadata": {
        "id": "Zz2T0QYYpwVR"
      },
      "source": [
        "## Exercise 1: Why use a CNN rather than only fully connected layers? (40 points)\n",
        "\n",
        "In this exercise, you will build two models for the **MNIST** dataset: one uses only fully connected layers and another uses a standard CNN layout (convolution layers everywhere except the last layer is fully connected layer). Note, you will need to use cross entropy loss as your objective function. The two models should be built with roughly the same accuracy performance, your task is to compare the number of network parameters (a huge number of parameters can affect training/testing time, memory requirements, overfitting, etc.)."
      ]
    },
    {
      "cell_type": "markdown",
      "metadata": {
        "id": "Q-QPCAy4QvDq"
      },
      "source": [
        "### Task 1: Prepare train and test function\n",
        "\n",
        "We will create our train and test procedure in these two functions. The train function should apply one epoch of training. The functions inputs should take everything we need for training and testing and return some logs.\n",
        "\n",
        "#### Arguments requirement:\n",
        "* For the `train` function, it takes the `model`, `loss_fn`, `optimizer`, `train_loader`, and `epoch` as arguments.\n",
        "    * `model`: the classifier, or deep neural network, should be an instance of `nn.Module`.\n",
        "    * `loss_fn`: the loss function instance. For example, `nn.CrossEntropy()`, or `nn.L1Loss()`, etc.\n",
        "    * `optimizer`: should be an instance of `torch.optim.Optimizer`. For example, it could be `optim.SGD()` or `optim.Adam()`, etc.\n",
        "    * `train_loader`: should be an instance of `torch.utils.data.DataLoader`.\n",
        "    * `epoch`: the current number of epoch. Only used for log printing.(default: 1.)\n",
        "\n",
        "* For the `test` function, it takes all the inputs above except for the optimizer (and it takes a test loader instead of a train loader).\n",
        "\n",
        "#### Log requirement:\n",
        "Here are some further requirements:\n",
        "* In the `train` function, print the log 8-10 times per epoch. The print statement should be:\n",
        "```python\n",
        "print(f'Epoch {epoch}: [{batch_idx*len(images)}/{len(train_loader.dataset)}] Loss: {loss.item():.3f}')\n",
        "```\n",
        "* In the `test` function, print the log after the testing. The print statement is:\n",
        "```python\n",
        "print(f\"Test result on epoch {epoch}: total sample: {total_num}, Avg loss: {test_stat['loss']:.3f}, Acc: {100*test_stat['accuracy']:.3f}%\")\n",
        "```\n",
        "\n",
        "#### Return requirement\n",
        "* The `train` function should return a list, which the element is the loss per batch, i.e., one loss value for every batch.\n",
        "* The `test` function should return a dictionary with three keys: \"loss\", \"accuracy\", and \"prediction\". The values are the average loss of all the testset, average accuracy of all the test dataset, and the prediction of all test dataset.\n",
        "\n",
        "#### Other requirement:\n",
        "* In the `train` function, the model should be updated in-place, i.e., do not copy the model inside `train` function."
      ]
    },
    {
      "cell_type": "code",
      "execution_count": 4,
      "metadata": {
        "id": "59m_okF_QvDr"
      },
      "outputs": [],
      "source": [
        "def train(model: nn.Module,\n",
        "          loss_fn: nn.modules.loss._Loss,\n",
        "          optimizer: torch.optim.Optimizer,\n",
        "          train_loader: torch.utils.data.DataLoader,\n",
        "          epoch: int=0)-> List:\n",
        "    # ----------- <Your code> ---------------\n",
        "\n",
        "    # set model to training mode(Gradient calculated, enable dropout, etc)\n",
        "    model.train()\n",
        "    train_loss = []\n",
        "\n",
        "    for batch_idx, (images, targets) in enumerate(train_loader):\n",
        "        images, targets = images.to(device), targets.to(device)\n",
        "        optimizer.zero_grad() # Clear previous gradients\n",
        "        output = model(images)\n",
        "        loss = loss_fn(output, targets)\n",
        "        loss.backward() # Backpropagate\n",
        "        optimizer.step() # Update weights\n",
        "\n",
        "        # record train loss and print that out occasionally\n",
        "        train_loss.append(loss.item())\n",
        "        if batch_idx % (len(train_loader) // 8) == 0:\n",
        "            print(f'Epoch {epoch}: [{batch_idx*len(images)}/{len(train_loader.dataset)}] Loss: {loss.item():.3f}')\n",
        "\n",
        "    # ----------- <End Your code> ---------------\n",
        "    assert len(train_loss) == len(train_loader)\n",
        "    return train_loss\n",
        "\n",
        "def test(model: nn.Module,\n",
        "         loss_fn: nn.modules.loss._Loss,\n",
        "         test_loader: torch.utils.data.DataLoader,\n",
        "         epoch: int=0)-> Dict:\n",
        "    # ----------- <Your code> ---------------\n",
        "\n",
        "    model.eval() # we need to set the mode for our model\n",
        "\n",
        "    test_loss = 0\n",
        "    correct = 0\n",
        "    predictions = []  # Initialize list to store predictions\n",
        "\n",
        "    with torch.no_grad():\n",
        "        for images, targets in test_loader:\n",
        "            images, targets = images.to(device), targets.to(device)\n",
        "            output = model(images)\n",
        "            test_loss += loss_fn(output, targets).item()\n",
        "            pred = output.data.max(1)[1] # we get the estimate of our result by look at the largest class value\n",
        "            correct += pred.eq(targets.data.view_as(pred)).sum() # sum up the corrected samples\n",
        "            predictions.append(pred.cpu().view(-1))  # Flatten and store predictions on CPU\n",
        "\n",
        "    test_loss /= len(test_loader)\n",
        "    accuracy = correct / len(test_loader.dataset)\n",
        "    predictions = torch.cat(predictions, dim=0)\n",
        "\n",
        "\n",
        "    print(f\"Test result on epoch {epoch}: total sample: {len(test_loader.dataset)}, Avg loss: {test_loss:.3f}, Acc: {100 * accuracy:.3f}%\")\n",
        "\n",
        "    # Return stats as a dictionary\n",
        "    test_stat = {\n",
        "        \"loss\": test_loss,\n",
        "        \"accuracy\": accuracy,\n",
        "        \"prediction\": predictions\n",
        "    }\n",
        "    # ----------- <Your code> ---------------\n",
        "    # dictionary should include loss, accuracy and prediction\n",
        "    assert \"loss\" and \"accuracy\" and \"prediction\" in test_stat.keys()\n",
        "    # \"prediction\" value should be a 1D tensor\n",
        "    assert len(test_stat[\"prediction\"]) == len(test_loader.dataset)\n",
        "    assert isinstance(test_stat[\"prediction\"], torch.Tensor)\n",
        "    return test_stat\n"
      ]
    },
    {
      "cell_type": "markdown",
      "metadata": {
        "id": "DFKqew7r-E-q"
      },
      "source": [
        "### Task 2: Following the structure used in the instructions, you should create\n",
        "\n",
        "*   One network named `OurFC` which should consist with only fully connected layers\n",
        "\n",
        "  *   You should decide how many layers and how many hidden dimensions you want in your network\n",
        "  *   Your final accuracy on the test dataset should lie roughly around 97% ($\\pm$2%)\n",
        "  *   There is no need to make the neural network unnecessarily complex, your total training time should no longer than 3 mins\n",
        "\n",
        "*   Another network named `OurCNN` which applys a standard CNN structure\n",
        "  *   Again, you should decide how many layers and how many channels you want for each layer.\n",
        "  *   Your final accuracy on the test dataset should lie roughly around 97% ($\\pm$2%)\n",
        "  *   A standard CNN structure can be composed as **[Conv2d, MaxPooling, ReLU] x num_conv_layers + FC x num_fc_layers**\n",
        "\n",
        "* Train and test your network on MNIST data as in the instructions.\n",
        "* Notice You can always use the `train` and `test` function you write throughout this assignment.\n",
        "* The code below will also print out the number of parameters for both neural networks to allow comparison.\n",
        "* (You can use multiple cells if helpful but make sure to run all of them to receive credit.)\n"
      ]
    },
    {
      "cell_type": "code",
      "execution_count": 5,
      "metadata": {
        "id": "8XfvgD-jt-Ye",
        "colab": {
          "base_uri": "https://localhost:8080/"
        },
        "outputId": "55ef68b3-bbd3-4003-8421-b17e431755d4"
      },
      "outputs": [
        {
          "output_type": "stream",
          "name": "stdout",
          "text": [
            "Downloading http://yann.lecun.com/exdb/mnist/train-images-idx3-ubyte.gz\n",
            "Failed to download (trying next):\n",
            "HTTP Error 403: Forbidden\n",
            "\n",
            "Downloading https://ossci-datasets.s3.amazonaws.com/mnist/train-images-idx3-ubyte.gz\n",
            "Downloading https://ossci-datasets.s3.amazonaws.com/mnist/train-images-idx3-ubyte.gz to data/MNIST/raw/train-images-idx3-ubyte.gz\n"
          ]
        },
        {
          "output_type": "stream",
          "name": "stderr",
          "text": [
            "100%|██████████| 9912422/9912422 [00:01<00:00, 5098142.16it/s] \n"
          ]
        },
        {
          "output_type": "stream",
          "name": "stdout",
          "text": [
            "Extracting data/MNIST/raw/train-images-idx3-ubyte.gz to data/MNIST/raw\n",
            "\n",
            "Downloading http://yann.lecun.com/exdb/mnist/train-labels-idx1-ubyte.gz\n",
            "Failed to download (trying next):\n",
            "HTTP Error 403: Forbidden\n",
            "\n",
            "Downloading https://ossci-datasets.s3.amazonaws.com/mnist/train-labels-idx1-ubyte.gz\n",
            "Downloading https://ossci-datasets.s3.amazonaws.com/mnist/train-labels-idx1-ubyte.gz to data/MNIST/raw/train-labels-idx1-ubyte.gz\n"
          ]
        },
        {
          "output_type": "stream",
          "name": "stderr",
          "text": [
            "100%|██████████| 28881/28881 [00:00<00:00, 135614.13it/s]\n"
          ]
        },
        {
          "output_type": "stream",
          "name": "stdout",
          "text": [
            "Extracting data/MNIST/raw/train-labels-idx1-ubyte.gz to data/MNIST/raw\n",
            "\n",
            "Downloading http://yann.lecun.com/exdb/mnist/t10k-images-idx3-ubyte.gz\n",
            "Failed to download (trying next):\n",
            "HTTP Error 403: Forbidden\n",
            "\n",
            "Downloading https://ossci-datasets.s3.amazonaws.com/mnist/t10k-images-idx3-ubyte.gz\n",
            "Downloading https://ossci-datasets.s3.amazonaws.com/mnist/t10k-images-idx3-ubyte.gz to data/MNIST/raw/t10k-images-idx3-ubyte.gz\n"
          ]
        },
        {
          "output_type": "stream",
          "name": "stderr",
          "text": [
            "100%|██████████| 1648877/1648877 [00:01<00:00, 1269112.48it/s]\n"
          ]
        },
        {
          "output_type": "stream",
          "name": "stdout",
          "text": [
            "Extracting data/MNIST/raw/t10k-images-idx3-ubyte.gz to data/MNIST/raw\n",
            "\n",
            "Downloading http://yann.lecun.com/exdb/mnist/t10k-labels-idx1-ubyte.gz\n",
            "Failed to download (trying next):\n",
            "HTTP Error 403: Forbidden\n",
            "\n",
            "Downloading https://ossci-datasets.s3.amazonaws.com/mnist/t10k-labels-idx1-ubyte.gz\n",
            "Downloading https://ossci-datasets.s3.amazonaws.com/mnist/t10k-labels-idx1-ubyte.gz to data/MNIST/raw/t10k-labels-idx1-ubyte.gz\n"
          ]
        },
        {
          "output_type": "stream",
          "name": "stderr",
          "text": [
            "100%|██████████| 4542/4542 [00:00<00:00, 5159948.20it/s]"
          ]
        },
        {
          "output_type": "stream",
          "name": "stdout",
          "text": [
            "Extracting data/MNIST/raw/t10k-labels-idx1-ubyte.gz to data/MNIST/raw\n",
            "\n",
            "Dataset MNIST\n",
            "    Number of datapoints: 60000\n",
            "    Root location: data\n",
            "    Split: Train\n",
            "    StandardTransform\n",
            "Transform: Compose(\n",
            "               ToTensor()\n",
            "               Normalize(mean=(0.1307,), std=(0.3081,))\n",
            "           )\n",
            "The dimension of the first picture is: torch.Size([1, 28, 28])\n"
          ]
        },
        {
          "output_type": "stream",
          "name": "stderr",
          "text": [
            "\n"
          ]
        }
      ],
      "source": [
        "# Download MNIST and transformation\n",
        "# ----------- <Your code> ---------------\n",
        "\n",
        "\"\"\"\n",
        "Here the transform is a pipeline containing two seperate transforms:\n",
        "1. Transform the data into tensor type\n",
        "2. Normalize the dataset by a giving mean and std.\n",
        "  (Those number is given as the global mean and standard deviation of MNIST dataset)\n",
        "\"\"\"\n",
        "transform = torchvision.transforms.Compose([torchvision.transforms.ToTensor(),\n",
        "                      torchvision.transforms.Normalize((0.1307,),(0.3081,))])\n",
        "\n",
        "train_dataset = torchvision.datasets.MNIST('data', train=True, download=True, transform=transform)\n",
        "test_dataset = torchvision.datasets.MNIST('data', train=False, download=True, transform=transform)\n",
        "\n",
        "print(train_dataset)\n",
        "\n",
        "# Print the shape of the image\n",
        "image, label = train_dataset[0]\n",
        "print(f\"The dimension of the first picture is: {image.shape}\")\n",
        "\n",
        "# ----------- <End Your code> -------------"
      ]
    },
    {
      "cell_type": "code",
      "execution_count": 6,
      "metadata": {
        "id": "ccYESqrsxNXA",
        "colab": {
          "base_uri": "https://localhost:8080/"
        },
        "outputId": "f97f4ef3-0b61-48e3-c082-647af3a8efd4"
      },
      "outputs": [
        {
          "output_type": "stream",
          "name": "stdout",
          "text": [
            "OurNN(\n",
            "  (fc0): Linear(in_features=784, out_features=4096, bias=True)\n",
            "  (bn0): BatchNorm1d(4096, eps=1e-05, momentum=0.1, affine=True, track_running_stats=True)\n",
            "  (fc2): Linear(in_features=4096, out_features=1024, bias=True)\n",
            "  (bn2): BatchNorm1d(1024, eps=1e-05, momentum=0.1, affine=True, track_running_stats=True)\n",
            "  (fc4): Linear(in_features=1024, out_features=256, bias=True)\n",
            "  (bn4): BatchNorm1d(256, eps=1e-05, momentum=0.1, affine=True, track_running_stats=True)\n",
            "  (fc6): Linear(in_features=256, out_features=10, bias=True)\n",
            "  (dropout): Dropout(p=0.05, inplace=False)\n",
            ")\n",
            "OurCNN(\n",
            "  (conv1): Conv2d(1, 3, kernel_size=(5, 5), stride=(1, 1))\n",
            "  (bn1): BatchNorm2d(3, eps=1e-05, momentum=0.1, affine=True, track_running_stats=True)\n",
            "  (pool): MaxPool2d(kernel_size=2, stride=2, padding=0, dilation=1, ceil_mode=False)\n",
            "  (fc1): Linear(in_features=432, out_features=128, bias=True)\n",
            "  (bn2): BatchNorm1d(128, eps=1e-05, momentum=0.1, affine=True, track_running_stats=True)\n",
            "  (fc2): Linear(in_features=128, out_features=10, bias=True)\n",
            ")\n"
          ]
        }
      ],
      "source": [
        "# Build OurFC class and OurCNN class.\n",
        "# ----------- <Your code> ---------------\n",
        "\n",
        "class OurNN(nn.Module): # Any neural generated network should be generate\n",
        "  def __init__(self):\n",
        "    super(OurNN, self).__init__() # calls the parent class (nn.Module) constructor, ensuring that the neural network object is properly initialized.\n",
        "    # Fully connected layers with increasing complexity\n",
        "    self.fc0 = nn.Linear(28*28, 4096)\n",
        "    self.bn0 = nn.BatchNorm1d(4096)     # THIS IMPACT PERFORMANCE ALOT! Normalizes the inputs across the mini-batch, stabilizing the learning process.\n",
        "\n",
        "    # self.fc1 = nn.Linear(4096, 2048)\n",
        "    # self.bn1 = nn.BatchNorm1d(2048)   # THIS IMPACT PERFORMANCE ALOT!\n",
        "\n",
        "    self.fc2 = nn.Linear(4096, 1024)\n",
        "    self.bn2 = nn.BatchNorm1d(1024)   # THIS IMPACT PERFORMANCE ALOT!\n",
        "\n",
        "    # self.fc3 = nn.Linear(1024, 512)\n",
        "    # self.bn3 = nn.BatchNorm1d(512)    # THIS IMPACT PERFORMANCE ALOT!\n",
        "\n",
        "    self.fc4 = nn.Linear(1024, 256)\n",
        "    self.bn4 = nn.BatchNorm1d(256)    # THIS IMPACT PERFORMANCE ALOT!\n",
        "\n",
        "    # self.fc5 = nn.Linear(256, 128)\n",
        "    # self.bn5 = nn.BatchNorm1d(128)     # THIS IMPACT PERFORMANCE ALOT!\n",
        "\n",
        "    self.fc6 = nn.Linear(256, 10)\n",
        "\n",
        "    self.dropout = nn.Dropout(p=0.05)\n",
        "\n",
        "  def forward(self, x):\n",
        "    x = x.view(-1, 28*28)  # Flatten the input image\n",
        "    x = F.relu(self.bn0(self.fc0(x)))\n",
        "    x = self.dropout(x)\n",
        "\n",
        "    # x = F.relu(self.bn1(self.fc1(x)))\n",
        "    # x = self.dropout(x)\n",
        "\n",
        "    x = F.relu(self.bn2(self.fc2(x)))\n",
        "    x = self.dropout(x)\n",
        "\n",
        "    # x = F.relu(self.bn3(self.fc3(x)))\n",
        "    # x = self.dropout(x)\n",
        "\n",
        "    x = F.relu(self.bn4(self.fc4(x)))\n",
        "    x = self.dropout(x)\n",
        "\n",
        "    # x = F.relu(self.bn5(self.fc5(x)))\n",
        "    # x = self.dropout(x)\n",
        "\n",
        "    x = self.fc6(x)\n",
        "\n",
        "    return x\n",
        "\n",
        "\n",
        "class OurCNN(nn.Module):\n",
        "    def __init__(self):\n",
        "        super(OurCNN, self).__init__()\n",
        "        self.conv1 = nn.Conv2d(1, 3, kernel_size=5)\n",
        "        self.bn1 = nn.BatchNorm2d(3)  # Batch Normalization after conv1\n",
        "        self.pool = nn.MaxPool2d(kernel_size=2, stride=2)\n",
        "        self.fc1 = nn.Linear(3 * 12 * 12, 128)\n",
        "        self.bn2 = nn.BatchNorm1d(128)  # Batch Normalization after fc1\n",
        "        self.fc2 = nn.Linear(128, 10)\n",
        "\n",
        "    def forward(self, x):\n",
        "        x = self.conv1(x)\n",
        "        x = self.bn1(x)  # Apply Batch Normalization\n",
        "        x = F.relu(x)\n",
        "        x = self.pool(x)\n",
        "        x = x.view(-1, 3 * 12 * 12)    # Flatten\n",
        "        x = self.fc1(x)\n",
        "        x = self.bn2(x)  # Apply Batch Normalization after fc1\n",
        "        x = F.relu(x)\n",
        "        x = self.fc2(x)\n",
        "        return x\n",
        "\n",
        "print(OurNN())\n",
        "print(OurCNN())\n",
        "# ----------- <End Your code> -------------"
      ]
    },
    {
      "cell_type": "code",
      "execution_count": 7,
      "metadata": {
        "colab": {
          "base_uri": "https://localhost:8080/"
        },
        "id": "TxhAyKGCx_iC",
        "outputId": "d42b825d-95f3-4bf7-cab9-34faf6b739b6"
      },
      "outputs": [
        {
          "output_type": "stream",
          "name": "stdout",
          "text": [
            "Epoch 0: [0/60000] Loss: 2.392\n",
            "Epoch 0: [7488/60000] Loss: 0.192\n",
            "Epoch 0: [14976/60000] Loss: 0.092\n",
            "Epoch 0: [22464/60000] Loss: 0.297\n",
            "Epoch 0: [29952/60000] Loss: 0.044\n",
            "Epoch 0: [37440/60000] Loss: 0.225\n",
            "Epoch 0: [44928/60000] Loss: 0.108\n",
            "Epoch 0: [52416/60000] Loss: 0.029\n",
            "Epoch 0: [59904/60000] Loss: 0.235\n",
            "Test result on epoch 0: total sample: 10000, Avg loss: 0.104, Acc: 96.420%\n",
            "Epoch 1: [0/60000] Loss: 0.134\n",
            "Epoch 1: [7488/60000] Loss: 0.055\n",
            "Epoch 1: [14976/60000] Loss: 0.041\n",
            "Epoch 1: [22464/60000] Loss: 0.035\n",
            "Epoch 1: [29952/60000] Loss: 0.095\n",
            "Epoch 1: [37440/60000] Loss: 0.193\n",
            "Epoch 1: [44928/60000] Loss: 0.078\n",
            "Epoch 1: [52416/60000] Loss: 0.111\n",
            "Epoch 1: [59904/60000] Loss: 0.095\n",
            "Test result on epoch 1: total sample: 10000, Avg loss: 0.101, Acc: 96.930%\n",
            "Epoch 2: [0/60000] Loss: 0.159\n",
            "Epoch 2: [7488/60000] Loss: 0.081\n",
            "Epoch 2: [14976/60000] Loss: 0.039\n",
            "Epoch 2: [22464/60000] Loss: 0.036\n",
            "Epoch 2: [29952/60000] Loss: 0.021\n",
            "Epoch 2: [37440/60000] Loss: 0.046\n",
            "Epoch 2: [44928/60000] Loss: 0.048\n",
            "Epoch 2: [52416/60000] Loss: 0.033\n",
            "Epoch 2: [59904/60000] Loss: 0.025\n",
            "Test result on epoch 2: total sample: 10000, Avg loss: 0.072, Acc: 97.810%\n",
            "Finished Training after 62.54515314102173 s \n"
          ]
        }
      ],
      "source": [
        "from torch.utils.data import DataLoader\n",
        "\n",
        "\n",
        "# Let's first train the FC model. Below are there common hyperparameters.\n",
        "criterion = nn.CrossEntropyLoss()\n",
        "\n",
        "start = time.time()\n",
        "max_epoch = 3\n",
        "# ----------- <Your code> ---------------\n",
        "\n",
        "# Initialize model, optimizer, and criterion\n",
        "model_fc = OurNN().to(device)\n",
        "criterion = nn.CrossEntropyLoss()\n",
        "optimizer = optim.Adam(model_fc.parameters(), lr=0.01)\n",
        "\n",
        "# Define data loaders\n",
        "train_loader = DataLoader(dataset=train_dataset, batch_size=64, shuffle=True)\n",
        "test_loader = DataLoader(dataset=test_dataset, batch_size=64, shuffle=False)\n",
        "\n",
        "for epoch in range(max_epoch):\n",
        "    train_loss = train(model_fc, criterion, optimizer, train_loader, epoch)\n",
        "\n",
        "    # Evaluate the model after each epoch\n",
        "    test_stat = test(model_fc, criterion, test_loader, epoch)\n",
        "\n",
        "# ----------- <End Your code> ---------------\n",
        "end = time.time()\n",
        "print(f'Finished Training after {end-start} s ')"
      ]
    },
    {
      "cell_type": "code",
      "execution_count": 8,
      "metadata": {
        "colab": {
          "base_uri": "https://localhost:8080/"
        },
        "id": "DX8q9Dtqylks",
        "outputId": "4978c6f9-7ed7-4a55-eaa9-09cbf3c24bc1"
      },
      "outputs": [
        {
          "output_type": "stream",
          "name": "stdout",
          "text": [
            "Epoch 0: [0/60000] Loss: 2.395\n",
            "Epoch 0: [7488/60000] Loss: 0.495\n",
            "Epoch 0: [14976/60000] Loss: 0.167\n",
            "Epoch 0: [22464/60000] Loss: 0.222\n",
            "Epoch 0: [29952/60000] Loss: 0.132\n",
            "Epoch 0: [37440/60000] Loss: 0.109\n",
            "Epoch 0: [44928/60000] Loss: 0.072\n",
            "Epoch 0: [52416/60000] Loss: 0.128\n",
            "Epoch 0: [59904/60000] Loss: 0.046\n",
            "Test result on epoch 0: total sample: 10000, Avg loss: 0.076, Acc: 97.660%\n",
            "Epoch 1: [0/60000] Loss: 0.104\n",
            "Epoch 1: [7488/60000] Loss: 0.151\n",
            "Epoch 1: [14976/60000] Loss: 0.210\n",
            "Epoch 1: [22464/60000] Loss: 0.074\n",
            "Epoch 1: [29952/60000] Loss: 0.012\n",
            "Epoch 1: [37440/60000] Loss: 0.028\n",
            "Epoch 1: [44928/60000] Loss: 0.056\n",
            "Epoch 1: [52416/60000] Loss: 0.055\n",
            "Epoch 1: [59904/60000] Loss: 0.144\n",
            "Test result on epoch 1: total sample: 10000, Avg loss: 0.051, Acc: 98.320%\n",
            "Epoch 2: [0/60000] Loss: 0.019\n",
            "Epoch 2: [7488/60000] Loss: 0.041\n",
            "Epoch 2: [14976/60000] Loss: 0.017\n",
            "Epoch 2: [22464/60000] Loss: 0.072\n",
            "Epoch 2: [29952/60000] Loss: 0.046\n",
            "Epoch 2: [37440/60000] Loss: 0.011\n",
            "Epoch 2: [44928/60000] Loss: 0.017\n",
            "Epoch 2: [52416/60000] Loss: 0.034\n",
            "Epoch 2: [59904/60000] Loss: 0.081\n",
            "Test result on epoch 2: total sample: 10000, Avg loss: 0.052, Acc: 98.160%\n",
            "Finished Training after 48.43848729133606 s \n"
          ]
        }
      ],
      "source": [
        "# Let's then train the OurCNN model.\n",
        "start = time.time()\n",
        "# ----------- <Your code> ---------------\n",
        "# Initialize model, optimizer, and criterion\n",
        "model_fc = OurCNN().to(device)\n",
        "criterion = nn.CrossEntropyLoss()\n",
        "optimizer = optim.Adam(model_fc.parameters(), lr=0.001)\n",
        "\n",
        "# Define data loaders\n",
        "train_loader = DataLoader(dataset=train_dataset, batch_size=64, shuffle=True)\n",
        "test_loader = DataLoader(dataset=test_dataset, batch_size=64, shuffle=False)\n",
        "\n",
        "for epoch in range(3):\n",
        "    train_loss = train(model_fc, criterion, optimizer, train_loader, epoch)\n",
        "\n",
        "    # Evaluate the model after each epoch\n",
        "    test_stat = test(model_fc, criterion, test_loader, epoch)\n",
        "\n",
        "# ----------- <End Your code> ---------------\n",
        "end = time.time()\n",
        "print(f'Finished Training after {end-start} s ')"
      ]
    },
    {
      "cell_type": "code",
      "execution_count": 9,
      "metadata": {
        "colab": {
          "base_uri": "https://localhost:8080/"
        },
        "id": "FIVO5T4JgA_N",
        "outputId": "ee32ef6d-330d-4837-e147-670a4a510600"
      },
      "outputs": [
        {
          "output_type": "stream",
          "name": "stdout",
          "text": [
            "OurFC has a total of 7686410 parameters\n",
            "OurCNN has a total of 57054 parameters\n"
          ]
        }
      ],
      "source": [
        "ourfc = OurNN()\n",
        "total_params = sum(p.numel() for p in ourfc.parameters())\n",
        "print(f'OurFC has a total of {total_params} parameters')\n",
        "\n",
        "ourcnn = OurCNN()\n",
        "total_params = sum(p.numel() for p in ourcnn.parameters())\n",
        "print(f'OurCNN has a total of {total_params} parameters')"
      ]
    },
    {
      "cell_type": "markdown",
      "metadata": {
        "id": "v5oMKOrhmfpM"
      },
      "source": [
        "Questions (0 points, just for understanding): Which one has more parameters?  Which one is likely to have less computational cost when deployed? Which one took longer to train?"
      ]
    },
    {
      "cell_type": "markdown",
      "metadata": {
        "id": "290mOBEHgEXr"
      },
      "source": [
        "## Exercise 2: Train classifier on CIFAR-10 data. (30 points)\n",
        "Now, lets move our dataset to color images. CIFAR-10 dataset is another widely used dataset. Here all images have colors, i.e each image has 3 color channels instead of only one channel in MNIST. You need to pay more attention to the dimension of the data as it passes through the layers of your network."
      ]
    },
    {
      "cell_type": "markdown",
      "metadata": {
        "id": "IHClZywoGwWt"
      },
      "source": [
        "### Task 1: Create data loaders\n",
        "* Load CIFAR10 train and test datas with appropriate composite transform where the normalize transform should be `transforms.Normalize((0.5, 0.5, 0.5), (0.5, 0.5, 0.5))])`.\n",
        "* Set up a `train_loader` and `test_loader` for the CIFAR-10 data with a batch size of 9 similar to the instructions.\n",
        "* The code below will plot a 3 x 3 subplot of images including their labels. (do not modify)"
      ]
    },
    {
      "cell_type": "code",
      "execution_count": 10,
      "metadata": {
        "colab": {
          "base_uri": "https://localhost:8080/",
          "height": 839
        },
        "id": "ANpwc7CSPlYP",
        "outputId": "708da956-a5d1-48df-fd19-c5688aedc0a9"
      },
      "outputs": [
        {
          "output_type": "stream",
          "name": "stdout",
          "text": [
            "Downloading https://www.cs.toronto.edu/~kriz/cifar-10-python.tar.gz to data/cifar-10-python.tar.gz\n"
          ]
        },
        {
          "output_type": "stream",
          "name": "stderr",
          "text": [
            "100%|██████████| 170498071/170498071 [00:13<00:00, 13078723.66it/s]\n"
          ]
        },
        {
          "output_type": "stream",
          "name": "stdout",
          "text": [
            "Extracting data/cifar-10-python.tar.gz to data\n",
            "Files already downloaded and verified\n",
            "The dimension of the first picture is: torch.Size([3, 32, 32])\n"
          ]
        },
        {
          "output_type": "display_data",
          "data": {
            "text/plain": [
              "<Figure size 900x900 with 9 Axes>"
            ],
            "image/png": "[encoded data removed]"
          },
          "metadata": {}
        }
      ],
      "source": [
        "classes = ('plane', 'car', 'bird', 'cat', 'deer', 'dog', 'frog', 'horse', 'ship', 'truck')\n",
        "\n",
        "# Create the appropriate transform, load/download CIFAR10 train and test datasets with transform\n",
        "# ----------- <Your code> ---------------\n",
        "\n",
        "transform = torchvision.transforms.Compose([torchvision.transforms.ToTensor(),\n",
        "                      torchvision.transforms.Normalize((0.5, 0.5, 0.5), (0.5, 0.5, 0.5))])\n",
        "train_dataset = torchvision.datasets.CIFAR10('data', train=True, download=True, transform=transform)\n",
        "test_dataset = torchvision.datasets.CIFAR10('data', train=False, download=True, transform=transform)\n",
        "\n",
        "# Print the shape of the image\n",
        "image, label = train_dataset[0]\n",
        "print(f\"The dimension of the first picture is: {image.shape}\")\n",
        "\n",
        "# ----------- <End Your code> ---------------\n",
        "\n",
        "# Define trainloader and testloader\n",
        "# ----------- <Your code> ---------------\n",
        "\n",
        "train_loader = DataLoader(dataset=train_dataset, batch_size=64, shuffle=True)\n",
        "test_loader = DataLoader(dataset=test_dataset, batch_size=64, shuffle=False)\n",
        "\n",
        "# ----------- <End Your code> ---------------\n",
        "\n",
        "# Code to display images\n",
        "batch_idx, (images, targets) = next(enumerate(train_loader)) #fix!!!!!\n",
        "fig, ax = plt.subplots(3,3,figsize = (9,9))\n",
        "for i in range(3):\n",
        "    for j in range(3):\n",
        "        image = images[i*3+j].permute(1,2,0)\n",
        "        image = image/2 + 0.5\n",
        "        ax[i,j].imshow(image)\n",
        "        ax[i,j].set_axis_off()\n",
        "        ax[i,j].set_title(f'{classes[targets[i*3+j]]}')\n",
        "fig.show()"
      ]
    },
    {
      "cell_type": "markdown",
      "metadata": {
        "id": "f0FMDyDzijEG"
      },
      "source": [
        "### Task 2: Create CNN and train it\n",
        "Set up a convolutional neural network and have your data trained on it. You have to decide all the details in your network, overall your neural network should meet the following standards to receive full credit:\n",
        "\n",
        "*   You should not use more than three convolutional layers and three fully connected layers\n",
        "*   Accuracy on the test dataset should be **above** 50%\n",
        "\n"
      ]
    },
    {
      "cell_type": "code",
      "execution_count": 11,
      "metadata": {
        "id": "a1pkwtIAzwfg"
      },
      "outputs": [],
      "source": [
        "# Create CNN network.\n",
        "# ----------- <Your code> ---------------\n",
        "\n",
        "class CNN4CIFAR10(nn.Module):\n",
        "    def __init__(self):\n",
        "        super(CNN4CIFAR10, self).__init__()\n",
        "\n",
        "        self.conv1 = nn.Conv2d(3, 32, kernel_size=3, padding=1)  # Input channels = 3, Output channels = 32\n",
        "        self.bn1 = nn.BatchNorm2d(32)\n",
        "\n",
        "        self.conv2 = nn.Conv2d(32, 64, kernel_size=3, padding=1)\n",
        "        self.bn2 = nn.BatchNorm2d(64)\n",
        "\n",
        "        self.conv3 = nn.Conv2d(64, 128, kernel_size=3, padding=1)\n",
        "        self.bn3 = nn.BatchNorm2d(128)\n",
        "\n",
        "        self.pool = nn.MaxPool2d(kernel_size=2, stride=2)\n",
        "\n",
        "        self.fc1 = nn.Linear(128 * 4 * 4, 256)  # After conv3 output will be 128 channels of 4x4 feature maps\n",
        "        self.bn_fc1 = nn.BatchNorm1d(256)\n",
        "\n",
        "        self.fc2 = nn.Linear(256, 128)\n",
        "        self.bn_fc2 = nn.BatchNorm1d(128)\n",
        "\n",
        "        self.fc3 = nn.Linear(128, 10)\n",
        "\n",
        "    def forward(self, x):\n",
        "        x = self.pool(F.relu(self.bn1(self.conv1(x))))\n",
        "        x = self.pool(F.relu(self.bn2(self.conv2(x))))\n",
        "        x = self.pool(F.relu(self.bn3(self.conv3(x))))\n",
        "\n",
        "        x = x.view(-1, 128 * 4 * 4)  # Flatten 128 channels of 4x4 feature maps\n",
        "\n",
        "        x = F.relu(self.bn_fc1(self.fc1(x)))\n",
        "        x = F.relu(self.bn_fc2(self.fc2(x)))\n",
        "        x = self.fc3(x)\n",
        "\n",
        "        return x\n",
        "\n",
        "\n",
        "# ----------- <End Your code> ---------------"
      ]
    },
    {
      "cell_type": "code",
      "execution_count": 12,
      "metadata": {
        "colab": {
          "base_uri": "https://localhost:8080/"
        },
        "id": "cRuEf8tAlnsP",
        "outputId": "2588ba63-90a2-4752-deab-4e6d6978fde1"
      },
      "outputs": [
        {
          "output_type": "stream",
          "name": "stdout",
          "text": [
            "Epoch 0: [0/50000] Loss: 2.556\n",
            "Epoch 0: [6208/50000] Loss: 1.344\n",
            "Epoch 0: [12416/50000] Loss: 1.116\n",
            "Epoch 0: [18624/50000] Loss: 1.115\n",
            "Epoch 0: [24832/50000] Loss: 0.871\n",
            "Epoch 0: [31040/50000] Loss: 1.153\n",
            "Epoch 0: [37248/50000] Loss: 0.670\n",
            "Epoch 0: [43456/50000] Loss: 0.930\n",
            "Epoch 0: [49664/50000] Loss: 0.842\n",
            "Test result on epoch 0: total sample: 10000, Avg loss: 0.945, Acc: 66.910%\n",
            "Epoch 1: [0/50000] Loss: 0.647\n",
            "Epoch 1: [6208/50000] Loss: 0.618\n",
            "Epoch 1: [12416/50000] Loss: 0.807\n",
            "Epoch 1: [18624/50000] Loss: 0.643\n",
            "Epoch 1: [24832/50000] Loss: 0.688\n",
            "Epoch 1: [31040/50000] Loss: 0.694\n",
            "Epoch 1: [37248/50000] Loss: 0.852\n",
            "Epoch 1: [43456/50000] Loss: 0.711\n",
            "Epoch 1: [49664/50000] Loss: 0.591\n",
            "Test result on epoch 1: total sample: 10000, Avg loss: 0.826, Acc: 71.950%\n",
            "Epoch 2: [0/50000] Loss: 0.622\n",
            "Epoch 2: [6208/50000] Loss: 0.575\n",
            "Epoch 2: [12416/50000] Loss: 0.492\n",
            "Epoch 2: [18624/50000] Loss: 0.959\n",
            "Epoch 2: [24832/50000] Loss: 0.428\n",
            "Epoch 2: [31040/50000] Loss: 0.612\n",
            "Epoch 2: [37248/50000] Loss: 0.490\n",
            "Epoch 2: [43456/50000] Loss: 0.689\n",
            "Epoch 2: [49664/50000] Loss: 0.450\n",
            "Test result on epoch 2: total sample: 10000, Avg loss: 0.675, Acc: 76.500%\n",
            "Epoch 3: [0/50000] Loss: 0.406\n",
            "Epoch 3: [6208/50000] Loss: 0.552\n",
            "Epoch 3: [12416/50000] Loss: 0.378\n",
            "Epoch 3: [18624/50000] Loss: 0.445\n",
            "Epoch 3: [24832/50000] Loss: 0.567\n",
            "Epoch 3: [31040/50000] Loss: 0.408\n",
            "Epoch 3: [37248/50000] Loss: 0.526\n",
            "Epoch 3: [43456/50000] Loss: 0.438\n",
            "Epoch 3: [49664/50000] Loss: 0.522\n",
            "Test result on epoch 3: total sample: 10000, Avg loss: 0.674, Acc: 77.400%\n",
            "Test result on epoch 3: total sample: 10000, Avg loss: 0.674, Acc: 77.400%\n",
            "Finished Training after 79.08514904975891 s \n"
          ]
        }
      ],
      "source": [
        "# Train your neural network here.\n",
        "start = time.time()\n",
        "max_epoch = 4\n",
        "# ----------- <Your code> ---------------\n",
        "# Define net\n",
        "\n",
        "# Initialize model, optimizer, and criterion\n",
        "net = CNN4CIFAR10().to(device)\n",
        "criterion = nn.CrossEntropyLoss()\n",
        "optimizer = optim.Adam(net.parameters(), lr=0.001)\n",
        "\n",
        "\n",
        "for epoch in range(max_epoch):\n",
        "    train_loss = train(net, criterion, optimizer, train_loader, epoch)\n",
        "\n",
        "    test_stat = test(net, criterion, test_loader, epoch)\n",
        "\n",
        "\n",
        "\n",
        "# ----------- <End Your code> ---------------\n",
        "output = test(net, criterion, test_loader, epoch)\n",
        "end = time.time()\n",
        "print(f'Finished Training after {end-start} s ')"
      ]
    },
    {
      "cell_type": "markdown",
      "metadata": {
        "id": "hS1mXr9Cl6pM"
      },
      "source": [
        "### Task 3: Plot misclassified test images\n",
        "Plot some misclassified images in your test dataset:\n",
        "\n",
        "*   select three images that are **misclassified** by your neural network\n",
        "*   label each images with true label and predicted label\n",
        "*   use `detach().cpu()` when plotting images if the image is in gpu"
      ]
    },
    {
      "cell_type": "code",
      "execution_count": 13,
      "metadata": {
        "colab": {
          "base_uri": "https://localhost:8080/",
          "height": 287
        },
        "id": "xd8vWof8nIHw",
        "outputId": "50368f16-803b-4105-d772-dac5fbd4caca"
      },
      "outputs": [
        {
          "output_type": "display_data",
          "data": {
            "text/plain": [
              "<Figure size 1000x300 with 3 Axes>"
            ],
            "image/png": "[encoded data removed]"
          },
          "metadata": {}
        }
      ],
      "source": [
        "total_images = 3\n",
        "predictions = output['prediction']\n",
        "targets = torch.tensor(test_dataset.targets)\n",
        "# ----------- <Your code> ---------------\n",
        "\n",
        "# Find misclassified indices\n",
        "misclassified_indices = (predictions != targets).nonzero(as_tuple=True)[0]\n",
        "\n",
        "# select 3 misclassified images\n",
        "misclassified_indices = misclassified_indices[:total_images]\n",
        "\n",
        "fig, axs = plt.subplots(1, total_images, figsize=(10, 3))\n",
        "\n",
        "for i, idx in enumerate(misclassified_indices):\n",
        "    image, true_label = test_dataset[idx]\n",
        "\n",
        "    # Detach and move image to CPU\n",
        "    image = image.detach().cpu().numpy().transpose(1, 2, 0)  # Convert from (C, H, W) to (H, W, C)\n",
        "\n",
        "    # Unnormalize the image (reverse the normalization) since we normalized with (0.5, 0.5, 0.5)\n",
        "    image = image * 0.5 + 0.5\n",
        "\n",
        "    # Get the predicted label\n",
        "    predicted_label = predictions[idx].item()\n",
        "\n",
        "    # Plot the image\n",
        "    axs[i].imshow(image)\n",
        "    axs[i].axis('off')\n",
        "    axs[i].set_title(f'True: {true_label}, Pred: {predicted_label}')\n",
        "\n",
        "plt.show()\n",
        "\n",
        "# ----------- <End Your code> ---------------"
      ]
    },
    {
      "cell_type": "markdown",
      "metadata": {
        "id": "W2ZVJYKtL5yN"
      },
      "source": [
        "Questions (0 points): Are the mis-classified images also misleading to human eyes?"
      ]
    },
    {
      "cell_type": "markdown",
      "metadata": {
        "id": "INN54zXpTcZw"
      },
      "source": [
        "## Exercise 3: Transfer Learning (30 points)"
      ]
    },
    {
      "cell_type": "markdown",
      "metadata": {
        "id": "IgDHswfp0k7m"
      },
      "source": [
        "In practice, people won't train an entire CNN from scratch, because it is relatively rare to have a dataset of sufficient size (or sufficient computational power). Instead, it is common to pretrain a CNN on a very large dataset and then use the CNN either as an initialization or a fixed feature extractor for the task of interest.\n",
        "\n",
        "In this task, you will learn how to use a pretrained CNN for CIFAR-10 classification."
      ]
    },
    {
      "cell_type": "markdown",
      "metadata": {
        "id": "f21CjwoW8ty5"
      },
      "source": [
        "### Task1: Load pretrained model"
      ]
    },
    {
      "cell_type": "markdown",
      "metadata": {
        "id": "VZ-21Pv183TX"
      },
      "source": [
        "`torchvision.models` (https://pytorch.org/vision/stable/models.html) contains definitions of models for addressing different tasks, including: image classification, pixelwise semantic segmentation, object detection, instance segmentation, person keypoint detection and video classification.\n",
        "\n",
        "First, you should load the **pretrained** ResNet-18 that has already been trained on [ImageNet](https://www.image-net.org/) using `torchvision.models`. If you are interested in more details about Resnet-18, read this paper https://arxiv.org/pdf/1512.03385.pdf."
      ]
    },
    {
      "cell_type": "code",
      "execution_count": 14,
      "metadata": {
        "colab": {
          "base_uri": "https://localhost:8080/"
        },
        "id": "KaHP0VfAVuDY",
        "outputId": "be0acc17-6311-485a-bd12-da7e5ad803da"
      },
      "outputs": [
        {
          "output_type": "stream",
          "name": "stderr",
          "text": [
            "/usr/local/lib/python3.10/dist-packages/torchvision/models/_utils.py:208: UserWarning: The parameter 'pretrained' is deprecated since 0.13 and may be removed in the future, please use 'weights' instead.\n",
            "  warnings.warn(\n",
            "/usr/local/lib/python3.10/dist-packages/torchvision/models/_utils.py:223: UserWarning: Arguments other than a weight enum or `None` for 'weights' are deprecated since 0.13 and may be removed in the future. The current behavior is equivalent to passing `weights=ResNet18_Weights.IMAGENET1K_V1`. You can also use `weights=ResNet18_Weights.DEFAULT` to get the most up-to-date weights.\n",
            "  warnings.warn(msg)\n",
            "Downloading: \"https://download.pytorch.org/models/resnet18-f37072fd.pth\" to /root/.cache/torch/hub/checkpoints/resnet18-f37072fd.pth\n",
            "100%|██████████| 44.7M/44.7M [00:00<00:00, 204MB/s]\n"
          ]
        }
      ],
      "source": [
        "resnet18 = models.resnet18(pretrained=True)\n",
        "resnet18 = resnet18.to(device)"
      ]
    },
    {
      "cell_type": "markdown",
      "metadata": {
        "id": "MtQkZUZH84q8"
      },
      "source": [
        "### Task2: Create data loaders for CIFAR-10"
      ]
    },
    {
      "cell_type": "markdown",
      "metadata": {
        "id": "GTlRo-CJ4GQD"
      },
      "source": [
        "Then you need to create a modified dataset and dataloader for CIFAR-10. Importantly, the model you load has been trained on **ImageNet** and it expects inputs as mini-batches of 3-channel RGB images of shape (3 x H x W), where H and W are expected to be **at least** 224. So you need to preprocess the CIFAR-10 data to make sure it has a height and width of 224. Thus, you should add a transform when loading the CIFAR10 dataset (see [`torchvision.transforms.Resize`](https://pytorch.org/vision/stable/transforms.html#torchvision.transforms.Resize)).\n",
        "This should be added appropriately to the `transform` you created in a previous task."
      ]
    },
    {
      "cell_type": "code",
      "execution_count": 15,
      "metadata": {
        "colab": {
          "base_uri": "https://localhost:8080/"
        },
        "id": "lhFys7OQV1Wj",
        "outputId": "4fa70dc8-64ca-47be-a0dd-641c88700dde"
      },
      "outputs": [
        {
          "output_type": "stream",
          "name": "stdout",
          "text": [
            "Files already downloaded and verified\n",
            "Files already downloaded and verified\n",
            "The dimension of the first picture is: torch.Size([3, 224, 224])\n"
          ]
        }
      ],
      "source": [
        "# Create your dataloader here\n",
        "# ----------- <Your code> ---------------\n",
        "\n",
        "transform = torchvision.transforms.Compose([\n",
        "    transforms.Resize((224, 224)),\n",
        "    torchvision.transforms.ToTensor(),\n",
        "    torchvision.transforms.Normalize((0.5, 0.5, 0.5), (0.5, 0.5, 0.5))])\n",
        "train_dataset = torchvision.datasets.CIFAR10('data', train=True, download=True, transform=transform)\n",
        "test_dataset = torchvision.datasets.CIFAR10('data', train=False, download=True, transform=transform)\n",
        "\n",
        "# Print the shape of the image\n",
        "image, label = train_dataset[0]\n",
        "print(f\"The dimension of the first picture is: {image.shape}\")\n",
        "\n",
        "train_loader = DataLoader(dataset=train_dataset, batch_size=64, shuffle=True)\n",
        "test_loader = DataLoader(dataset=test_dataset, batch_size=64, shuffle=False)\n",
        "\n",
        "# ----------- <End Your code> ---------------"
      ]
    },
    {
      "cell_type": "markdown",
      "metadata": {
        "id": "k8nR_aBi9Atb"
      },
      "source": [
        "### Task3: Classify test data on pretrained model"
      ]
    },
    {
      "cell_type": "markdown",
      "metadata": {
        "id": "N8IXXu-J9grR"
      },
      "source": [
        "Use the model you load to classify the **test** CIFAR-10 data and print out the test accuracy.\n",
        "\n",
        "Don't be surprised if the accuracy is bad!"
      ]
    },
    {
      "cell_type": "code",
      "execution_count": 16,
      "metadata": {
        "colab": {
          "base_uri": "https://localhost:8080/"
        },
        "id": "JOuCodyJ4FYp",
        "outputId": "821db642-5881-4826-fcb5-4097463db0a6"
      },
      "outputs": [
        {
          "output_type": "stream",
          "name": "stdout",
          "text": [
            "Test result on epoch 3: total sample: 10000, Avg loss: 11.708, Acc: 0.030%\n"
          ]
        }
      ],
      "source": [
        "# ----------- <Your code> ---------------\n",
        "\n",
        "test_stat = test(resnet18, criterion, test_loader, epoch)\n",
        "\n",
        "# ----------- <End Your code> ---------------"
      ]
    },
    {
      "cell_type": "markdown",
      "metadata": {
        "id": "ETLezHR0-ByE"
      },
      "source": [
        "### Task 4: Fine-tune (i.e., update) the pretrained model for CIFAR-10"
      ]
    },
    {
      "cell_type": "markdown",
      "metadata": {
        "id": "BbQrsL-U-Faq"
      },
      "source": [
        "Now try to improve the test accuracy. We offer several possible solutions:\n",
        "\n",
        "(1) You can try to directly continue to train the model you load with the CIFAR-10 training data.\n",
        "\n",
        "(2) For efficiency, you can try to freeze part of the parameters of the loaded models. For example, you can first freeze all parameters by\n",
        "\n",
        "```\n",
        "for param in model.parameters():\n",
        "    param.requires_grad = False\n",
        "```\n",
        "and then unfreeze the last few layers by setting `somelayer.requires_grad=True`.\n",
        "\n",
        "You are also welcome to try any other approach you can think of.\n",
        "\n",
        "\n",
        "**Note:** You must print out the test accuracy and to get full credits, the test accuracy should be at least **80%**."
      ]
    },
    {
      "cell_type": "code",
      "execution_count": 17,
      "metadata": {
        "colab": {
          "base_uri": "https://localhost:8080/"
        },
        "id": "zaA_dukw-hLt",
        "outputId": "a442243e-2985-446c-accd-ec9f95cac37c"
      },
      "outputs": [
        {
          "output_type": "stream",
          "name": "stdout",
          "text": [
            "Epoch 0: [0/50000] Loss: 2.485\n",
            "Epoch 0: [6208/50000] Loss: 0.570\n",
            "Epoch 0: [12416/50000] Loss: 0.615\n",
            "Epoch 0: [18624/50000] Loss: 0.574\n",
            "Epoch 0: [24832/50000] Loss: 0.538\n",
            "Epoch 0: [31040/50000] Loss: 0.293\n",
            "Epoch 0: [37248/50000] Loss: 0.408\n",
            "Epoch 0: [43456/50000] Loss: 0.350\n",
            "Epoch 0: [49664/50000] Loss: 0.359\n",
            "Test result on epoch 0: total sample: 10000, Avg loss: 0.435, Acc: 85.280%\n",
            "Epoch 1: [0/50000] Loss: 0.176\n",
            "Epoch 1: [6208/50000] Loss: 0.243\n",
            "Epoch 1: [12416/50000] Loss: 0.291\n",
            "Epoch 1: [18624/50000] Loss: 0.669\n",
            "Epoch 1: [24832/50000] Loss: 0.259\n",
            "Epoch 1: [31040/50000] Loss: 0.426\n",
            "Epoch 1: [37248/50000] Loss: 0.296\n",
            "Epoch 1: [43456/50000] Loss: 0.243\n",
            "Epoch 1: [49664/50000] Loss: 0.220\n",
            "Test result on epoch 1: total sample: 10000, Avg loss: 0.369, Acc: 87.200%\n",
            "Epoch 2: [0/50000] Loss: 0.240\n",
            "Epoch 2: [6208/50000] Loss: 0.269\n",
            "Epoch 2: [12416/50000] Loss: 0.164\n",
            "Epoch 2: [18624/50000] Loss: 0.160\n",
            "Epoch 2: [24832/50000] Loss: 0.280\n",
            "Epoch 2: [31040/50000] Loss: 0.290\n",
            "Epoch 2: [37248/50000] Loss: 0.288\n",
            "Epoch 2: [43456/50000] Loss: 0.091\n",
            "Epoch 2: [49664/50000] Loss: 0.252\n",
            "Test result on epoch 2: total sample: 10000, Avg loss: 0.338, Acc: 88.760%\n",
            "Test result on epoch 2: total sample: 10000, Avg loss: 0.338, Acc: 88.760%\n",
            "Finished Training after 776.8976457118988 s \n"
          ]
        }
      ],
      "source": [
        "# Directly train the whole model.\n",
        "start = time.time()\n",
        "#----------- <Your code> ---------------\n",
        "\n",
        "# By default, param.requires_grad = True\n",
        "# for param in resnet18.parameters():\n",
        "#     param.requires_grad = True\n",
        "\n",
        "# Modify the final fully connected layer to output 10 classes\n",
        "resnet18.fc = nn.Linear(resnet18.fc.in_features, 10)\n",
        "\n",
        "net = resnet18.to(device)\n",
        "criterion = nn.CrossEntropyLoss()\n",
        "optimizer = optim.Adam(net.parameters(), lr=0.001)\n",
        "\n",
        "for epoch in range(3):\n",
        "    train_loss = train(net, criterion, optimizer, train_loader, epoch)\n",
        "\n",
        "    # Evaluate the model after each epoch\n",
        "    test_stat = test(net, criterion, test_loader, epoch)\n",
        "\n",
        "# ----------- <End Your code> ---------------\n",
        "test(resnet18, criterion, test_loader, epoch)\n",
        "end = time.time()\n",
        "print(f'Finished Training after {end-start} s ')"
      ]
    },
    {
      "cell_type": "code",
      "execution_count": 20,
      "metadata": {
        "id": "PSvqiTDZQvDy"
      },
      "outputs": [],
      "source": [
        "# Load another resnet18 instance, only unfreeze the outer layers.\n",
        "# ----------- <Your code> ---------------\n",
        "\n",
        "resnet18 = models.resnet18(weights=True)\n",
        "\n",
        "# Freeze all layers, we don't want to train them\n",
        "for param in resnet18.parameters():\n",
        "    param.requires_grad = False\n",
        "\n",
        "# Modify the final fully connected layer to output 10 classes\n",
        "resnet18.fc = nn.Sequential(            # This will replaced with a new one\n",
        "    nn.Linear(resnet18.fc.in_features, 512),\n",
        "    nn.BatchNorm1d(512),\n",
        "    nn.ReLU(),\n",
        "    nn.Linear(512, 10))\n",
        "\n",
        "# Unfreeze the final fully connected layer\n",
        "for param in resnet18.fc.parameters():\n",
        "    param.requires_grad = True\n",
        "\n",
        "# ----------- <End Your code> ---------------"
      ]
    },
    {
      "cell_type": "code",
      "execution_count": 21,
      "metadata": {
        "colab": {
          "base_uri": "https://localhost:8080/"
        },
        "id": "CY-yaF0YAyk7",
        "outputId": "94f7543e-ccfc-42fd-f94d-12756704422d"
      },
      "outputs": [
        {
          "output_type": "stream",
          "name": "stdout",
          "text": [
            "Epoch 0: [0/50000] Loss: 2.450\n",
            "Epoch 0: [6208/50000] Loss: 1.048\n",
            "Epoch 0: [12416/50000] Loss: 0.723\n",
            "Epoch 0: [18624/50000] Loss: 0.827\n",
            "Epoch 0: [24832/50000] Loss: 0.713\n",
            "Epoch 0: [31040/50000] Loss: 0.564\n",
            "Epoch 0: [37248/50000] Loss: 0.564\n",
            "Epoch 0: [43456/50000] Loss: 0.761\n",
            "Epoch 0: [49664/50000] Loss: 0.896\n",
            "Test result on epoch 0: total sample: 10000, Avg loss: 0.605, Acc: 79.620%\n",
            "Epoch 1: [0/50000] Loss: 0.598\n",
            "Epoch 1: [6208/50000] Loss: 0.440\n",
            "Epoch 1: [12416/50000] Loss: 0.625\n",
            "Epoch 1: [18624/50000] Loss: 0.742\n",
            "Epoch 1: [24832/50000] Loss: 0.826\n",
            "Epoch 1: [31040/50000] Loss: 0.617\n",
            "Epoch 1: [37248/50000] Loss: 0.636\n",
            "Epoch 1: [43456/50000] Loss: 0.539\n",
            "Epoch 1: [49664/50000] Loss: 0.605\n",
            "Test result on epoch 1: total sample: 10000, Avg loss: 0.555, Acc: 80.990%\n",
            "Epoch 2: [0/50000] Loss: 0.474\n",
            "Epoch 2: [6208/50000] Loss: 0.379\n",
            "Epoch 2: [12416/50000] Loss: 0.518\n",
            "Epoch 2: [18624/50000] Loss: 0.485\n",
            "Epoch 2: [24832/50000] Loss: 0.589\n",
            "Epoch 2: [31040/50000] Loss: 0.707\n",
            "Epoch 2: [37248/50000] Loss: 0.582\n",
            "Epoch 2: [43456/50000] Loss: 0.754\n",
            "Epoch 2: [49664/50000] Loss: 0.576\n",
            "Test result on epoch 2: total sample: 10000, Avg loss: 0.537, Acc: 81.910%\n",
            "Test result on epoch 0: total sample: 10000, Avg loss: 0.537, Acc: 81.910%\n",
            "Finished Training after 498.10956621170044 s \n"
          ]
        }
      ],
      "source": [
        "# Train the model!!\n",
        "start = time.time()\n",
        "# ----------- <Your code> ---------------\n",
        "\n",
        "net = resnet18.to(device)\n",
        "criterion = nn.CrossEntropyLoss()\n",
        "optimizer = optim.Adam(net.parameters(), lr=0.0001)\n",
        "\n",
        "for epoch in range(3):\n",
        "    train_loss = train(net, criterion, optimizer, train_loader, epoch)\n",
        "\n",
        "    # Evaluate the model after each epoch\n",
        "    test_stat = test(net, criterion, test_loader, epoch)\n",
        "\n",
        "# ----------- <End Your code> ---------------\n",
        "test(resnet18, criterion, test_loader)\n",
        "end = time.time()\n",
        "print(f'Finished Training after {end-start} s ')"
      ]
    }
  ],
  "metadata": {
    "accelerator": "GPU",
    "colab": {
      "provenance": []
    },
    "kernelspec": {
      "display_name": "Python 3 (ipykernel)",
      "language": "python",
      "name": "python3"
    },
    "language_info": {
      "codemirror_mode": {
        "name": "ipython",
        "version": 3
      },
      "file_extension": ".py",
      "mimetype": "text/x-python",
      "name": "python",
      "nbconvert_exporter": "python",
      "pygments_lexer": "ipython3",
      "version": "3.11.9"
    },
    "vscode": {
      "interpreter": {
        "hash": "b0fa6594d8f4cbf19f97940f81e996739fb7646882a419484c72d19e05852a7e"
      }
    }
  },
  "nbformat": 4,
  "nbformat_minor": 0
}